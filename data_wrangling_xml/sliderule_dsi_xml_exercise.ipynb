{
 "cells": [
  {
   "cell_type": "markdown",
   "metadata": {},
   "source": [
    "# XML example and exercise\n",
    "****\n",
    "+ study examples of accessing nodes in XML tree structure  \n",
    "+ work on exercise to be completed and submitted\n",
    "****\n",
    "+ reference: https://docs.python.org/2.7/library/xml.etree.elementtree.html\n",
    "+ data source: http://www.dbis.informatik.uni-goettingen.de/Mondial\n",
    "****"
   ]
  },
  {
   "cell_type": "code",
   "execution_count": 1,
   "metadata": {
    "collapsed": true
   },
   "outputs": [],
   "source": [
    "from xml.etree import ElementTree as ET"
   ]
  },
  {
   "cell_type": "markdown",
   "metadata": {},
   "source": [
    "## XML example\n",
    "\n",
    "+ for details about tree traversal and iterators, see https://docs.python.org/2.7/library/xml.etree.elementtree.html"
   ]
  },
  {
   "cell_type": "code",
   "execution_count": 2,
   "metadata": {
    "collapsed": false
   },
   "outputs": [],
   "source": [
    "document_tree = ET.parse( './data/mondial_database_less.xml' )"
   ]
  },
  {
   "cell_type": "code",
   "execution_count": 3,
   "metadata": {
    "collapsed": false
   },
   "outputs": [
    {
     "name": "stdout",
     "output_type": "stream",
     "text": [
      "Albania\n",
      "Greece\n",
      "Macedonia\n",
      "Serbia\n",
      "Montenegro\n",
      "Kosovo\n",
      "Andorra\n"
     ]
    }
   ],
   "source": [
    "# print names of all countries\n",
    "for child in document_tree.getroot():\n",
    "    print child.find('name').text"
   ]
  },
  {
   "cell_type": "code",
   "execution_count": 4,
   "metadata": {
    "collapsed": false
   },
   "outputs": [
    {
     "name": "stdout",
     "output_type": "stream",
     "text": [
      "* Albania: Tirana, Shkodër, Durrës, Vlorë, Elbasan, Korçë\n",
      "* Greece: Komotini, Kavala, Athina, Peiraias, Peristeri, Acharnes, Patra, Kozani, Kerkyra, Ioannina, Thessaloniki, Iraklio, Chania, Ermoupoli, Rhodes, Tripoli, Lamia, Chalkida, Larissa, Volos, Mytilini, Karyes\n",
      "* Macedonia: Skopje, Kumanovo\n",
      "* Serbia: Beograd, Novi Sad, Niš\n",
      "* Montenegro: Podgorica\n",
      "* Kosovo: Prishtine\n",
      "* Andorra: Andorra la Vella\n"
     ]
    }
   ],
   "source": [
    "# print names of all countries and their cities\n",
    "for element in document_tree.iterfind('country'):\n",
    "    print '* ' + element.find('name').text + ':',\n",
    "    capitals_string = ''\n",
    "    for subelement in element.getiterator('city'):\n",
    "        capitals_string += subelement.find('name').text + ', '\n",
    "    print capitals_string[:-2]"
   ]
  },
  {
   "cell_type": "markdown",
   "metadata": {},
   "source": [
    "****\n",
    "## XML exercise\n",
    "\n",
    "Using data in 'data/mondial_database.xml', the examples above, and refering to https://docs.python.org/2.7/library/xml.etree.elementtree.html, find\n",
    "\n",
    "1. 10 countries with the lowest infant mortality rates\n",
    "2. 10 cities with the largest population\n",
    "3. 10 ethnic groups with the largest overall populations (sum of best/latest estimates over all countries)\n",
    "4. name and country of a) longest river, b) largest lake and c) airport at highest elevation"
   ]
  },
  {
   "cell_type": "code",
   "execution_count": 5,
   "metadata": {
    "collapsed": false
   },
   "outputs": [],
   "source": [
    "document = ET.parse( './data/mondial_database.xml' )\n",
    "root = document.getroot()\n",
    "\n",
    "    "
   ]
  },
  {
   "cell_type": "code",
   "execution_count": 150,
   "metadata": {
    "collapsed": false
   },
   "outputs": [
    {
     "name": "stdout",
     "output_type": "stream",
     "text": [
      "Monaco\n",
      "Japan\n",
      "Norway\n",
      "Bermuda\n",
      "Singapore\n",
      "Sweden\n",
      "Czech Republic\n",
      "Hong Kong\n",
      "Macao\n",
      "Iceland\n"
     ]
    }
   ],
   "source": [
    "# Lowest Infant mortality rates\n",
    "#making a list of tuples of the form (country, infant_mortality)\n",
    "a = []\n",
    "\n",
    "for country in root.iterfind('country'):\n",
    "    \n",
    "    if country.find('infant_mortality')!= None:\n",
    "        infant_mortality = country.find('infant_mortality').text\n",
    "        z = float(infant_mortality)\n",
    "        name = country.find('name').text\n",
    "        a.append((name,z))\n",
    "        \n",
    "\n",
    "a = sorted(a, key=lambda IM: IM[1]) #Sorting the tuples by Infant Mortality Rate\n",
    "for i in range(0,10):\n",
    "        print a[i][0]\n"
   ]
  },
  {
   "cell_type": "code",
   "execution_count": 151,
   "metadata": {
    "collapsed": false
   },
   "outputs": [
    {
     "data": {
      "text/html": [
       "<div>\n",
       "<table border=\"1\" class=\"dataframe\">\n",
       "  <thead>\n",
       "    <tr style=\"text-align: right;\">\n",
       "      <th></th>\n",
       "      <th>City</th>\n",
       "      <th>Population</th>\n",
       "    </tr>\n",
       "  </thead>\n",
       "  <tbody>\n",
       "    <tr>\n",
       "      <th>1341</th>\n",
       "      <td>Shanghai</td>\n",
       "      <td>22315474</td>\n",
       "    </tr>\n",
       "    <tr>\n",
       "      <th>771</th>\n",
       "      <td>Istanbul</td>\n",
       "      <td>13710512</td>\n",
       "    </tr>\n",
       "    <tr>\n",
       "      <th>1527</th>\n",
       "      <td>Mumbai</td>\n",
       "      <td>12442373</td>\n",
       "    </tr>\n",
       "    <tr>\n",
       "      <th>479</th>\n",
       "      <td>Moskva</td>\n",
       "      <td>11979529</td>\n",
       "    </tr>\n",
       "    <tr>\n",
       "      <th>1340</th>\n",
       "      <td>Beijing</td>\n",
       "      <td>11716620</td>\n",
       "    </tr>\n",
       "    <tr>\n",
       "      <th>2810</th>\n",
       "      <td>São Paulo</td>\n",
       "      <td>11152344</td>\n",
       "    </tr>\n",
       "    <tr>\n",
       "      <th>1342</th>\n",
       "      <td>Tianjin</td>\n",
       "      <td>11090314</td>\n",
       "    </tr>\n",
       "    <tr>\n",
       "      <th>1064</th>\n",
       "      <td>Guangzhou</td>\n",
       "      <td>11071424</td>\n",
       "    </tr>\n",
       "    <tr>\n",
       "      <th>1582</th>\n",
       "      <td>Delhi</td>\n",
       "      <td>11034555</td>\n",
       "    </tr>\n",
       "    <tr>\n",
       "      <th>1067</th>\n",
       "      <td>Shenzhen</td>\n",
       "      <td>10358381</td>\n",
       "    </tr>\n",
       "  </tbody>\n",
       "</table>\n",
       "</div>"
      ],
      "text/plain": [
       "           City  Population\n",
       "1341   Shanghai    22315474\n",
       "771    Istanbul    13710512\n",
       "1527     Mumbai    12442373\n",
       "479      Moskva    11979529\n",
       "1340    Beijing    11716620\n",
       "2810  São Paulo    11152344\n",
       "1342    Tianjin    11090314\n",
       "1064  Guangzhou    11071424\n",
       "1582      Delhi    11034555\n",
       "1067   Shenzhen    10358381"
      ]
     },
     "execution_count": 151,
     "metadata": {},
     "output_type": "execute_result"
    }
   ],
   "source": [
    "#Top 10 cities by population\n",
    "a = []\n",
    "\n",
    "for country in root.iterfind('country'):\n",
    "    for city in country.getiterator('city'):            \n",
    "                     \n",
    "            name = city.find('name').text\n",
    "            for population in city.findall( 'population' ):\n",
    "                population_total = int(population.text)#finding the most recent  population \n",
    "            a.append((name,population_total))\n",
    "                \n",
    "            \n",
    "            \n",
    "#Creating a dataframe\n",
    "df = pd.DataFrame(a)\n",
    "df.columns = ['City', 'Population']\n",
    "df.sort('Population', ascending = False).head(10)     "
   ]
  },
  {
   "cell_type": "code",
   "execution_count": 152,
   "metadata": {
    "collapsed": false
   },
   "outputs": [
    {
     "data": {
      "text/html": [
       "<div>\n",
       "<table border=\"1\" class=\"dataframe\">\n",
       "  <thead>\n",
       "    <tr style=\"text-align: right;\">\n",
       "      <th></th>\n",
       "      <th>Population</th>\n",
       "    </tr>\n",
       "    <tr>\n",
       "      <th>Ethnic Group</th>\n",
       "      <th></th>\n",
       "    </tr>\n",
       "  </thead>\n",
       "  <tbody>\n",
       "    <tr>\n",
       "      <th>Han Chinese</th>\n",
       "      <td>1245058800</td>\n",
       "    </tr>\n",
       "    <tr>\n",
       "      <th>Indo-Aryan</th>\n",
       "      <td>871815583</td>\n",
       "    </tr>\n",
       "    <tr>\n",
       "      <th>European</th>\n",
       "      <td>494872201</td>\n",
       "    </tr>\n",
       "    <tr>\n",
       "      <th>African</th>\n",
       "      <td>318325104</td>\n",
       "    </tr>\n",
       "    <tr>\n",
       "      <th>Dravidian</th>\n",
       "      <td>302713744</td>\n",
       "    </tr>\n",
       "    <tr>\n",
       "      <th>Mestizo</th>\n",
       "      <td>157734349</td>\n",
       "    </tr>\n",
       "    <tr>\n",
       "      <th>Bengali</th>\n",
       "      <td>146776916</td>\n",
       "    </tr>\n",
       "    <tr>\n",
       "      <th>Russian</th>\n",
       "      <td>131856989</td>\n",
       "    </tr>\n",
       "    <tr>\n",
       "      <th>Japanese</th>\n",
       "      <td>126534212</td>\n",
       "    </tr>\n",
       "    <tr>\n",
       "      <th>Malay</th>\n",
       "      <td>121993548</td>\n",
       "    </tr>\n",
       "  </tbody>\n",
       "</table>\n",
       "</div>"
      ],
      "text/plain": [
       "              Population\n",
       "Ethnic Group            \n",
       "Han Chinese   1245058800\n",
       "Indo-Aryan     871815583\n",
       "European       494872201\n",
       "African        318325104\n",
       "Dravidian      302713744\n",
       "Mestizo        157734349\n",
       "Bengali        146776916\n",
       "Russian        131856989\n",
       "Japanese       126534212\n",
       "Malay          121993548"
      ]
     },
     "execution_count": 152,
     "metadata": {},
     "output_type": "execute_result"
    }
   ],
   "source": [
    "#Top 10 ethnic groups in the world\n",
    "import pandas as pd\n",
    "a = []\n",
    "for country in root.findall( 'country' ):\n",
    "    for population in country.findall('population'):\n",
    "             \n",
    "        population_total = population.text\n",
    "    population = int(population_total)    #finding the most recent  population \n",
    "                   \n",
    "          \n",
    "            \n",
    "    \n",
    "        \n",
    "    #print country.find('name').text, population\n",
    "    for ethnic_group in country.findall('ethnicgroup'):\n",
    "        sub_population = float((ethnic_group.attrib['percentage']))* 0.01*population\n",
    "        a.append((ethnic_group.text , int(sub_population)))\n",
    "        \n",
    "      \n",
    "    \n",
    "#Creating a dataframe\n",
    "df = pd.DataFrame(a)\n",
    "df.columns = ['Ethnic Group', 'Population']\n",
    "grouped = df.groupby('Ethnic Group')\n",
    "grouped.sum().sort('Population', ascending = False).head(10)\n",
    "\n",
    "\n"
   ]
  },
  {
   "cell_type": "code",
   "execution_count": 118,
   "metadata": {
    "collapsed": false,
    "scrolled": true
   },
   "outputs": [
    {
     "name": "stdout",
     "output_type": "stream",
     "text": [
      "El Alto Intl BOL 4063\n"
     ]
    }
   ],
   "source": [
    "# Airport at maximum elevation\n",
    "c = []\n",
    "d = []\n",
    "e = []\n",
    "for airport in root.findall('airport'):\n",
    "    \n",
    "    if airport.find('elevation').text!= None:\n",
    "        elevation = airport.find('elevation').text\n",
    "        z = int(elevation)\n",
    "        d.append(z)\n",
    "        name = airport.find('name').text\n",
    "        c.append(name)\n",
    "        country = airport.get('country')\n",
    "        e.append(country)\n",
    "  \n",
    "\n",
    "#Finding the index of the maximum elevation\n",
    "max_elev = d.index(max(d))\n",
    "#Printing the airport name, country and elevation \n",
    "print c[max_elev], e[max_elev], max(d)"
   ]
  },
  {
   "cell_type": "code",
   "execution_count": 119,
   "metadata": {
    "collapsed": false
   },
   "outputs": [
    {
     "name": "stdout",
     "output_type": "stream",
     "text": [
      "Amazonas CO BR PE 6448.0\n"
     ]
    }
   ],
   "source": [
    "# Longest River\n",
    "c = []\n",
    "d= []\n",
    "e = []\n",
    "for river in root.findall('river'):\n",
    "    \n",
    "    if river.find('length')!= None:\n",
    "        length = river.find('length').text\n",
    "        z = float(length)\n",
    "        d.append(z)\n",
    "        name = river.find('name').text\n",
    "        c.append(name)\n",
    "        country = river.get('country')\n",
    "        e.append(country)\n",
    "  \n",
    "\n",
    "\n",
    "#Finding the index of the maximum length\n",
    "max_len = d.index(max(d))\n",
    "#Printing the name, country and length \n",
    "print c[max_len], e[max_len], max(d)"
   ]
  },
  {
   "cell_type": "code",
   "execution_count": 120,
   "metadata": {
    "collapsed": false
   },
   "outputs": [
    {
     "name": "stdout",
     "output_type": "stream",
     "text": [
      "Caspian Sea R AZ KAZ IR TM 386400.0\n"
     ]
    }
   ],
   "source": [
    "#Largest lake\n",
    "c = []\n",
    "d= []\n",
    "e = []\n",
    "for lake in root.findall('lake'):\n",
    "    \n",
    "    if lake.find('area')!= None:\n",
    "        area = lake.find('area').text\n",
    "        z = float(area)\n",
    "        d.append(z)\n",
    "        name = lake.find('name').text\n",
    "        c.append(name)\n",
    "        country = lake.get('country')\n",
    "        e.append(country)\n",
    "  \n",
    "\n",
    "#Finding the index of the maximum area\n",
    "max_area = d.index(max(d))\n",
    "#Printing the name, country  and the area \n",
    "print c[max_area], e[max_area], max(d)"
   ]
  }
 ],
 "metadata": {
  "kernelspec": {
   "display_name": "Python 2",
   "language": "python",
   "name": "python2"
  },
  "language_info": {
   "codemirror_mode": {
    "name": "ipython",
    "version": 2
   },
   "file_extension": ".py",
   "mimetype": "text/x-python",
   "name": "python",
   "nbconvert_exporter": "python",
   "pygments_lexer": "ipython2",
   "version": "2.7.10"
  }
 },
 "nbformat": 4,
 "nbformat_minor": 0
}
